{
 "cells": [
  {
   "cell_type": "code",
   "execution_count": 172,
   "metadata": {},
   "outputs": [],
   "source": [
    "def merge_count_inversion(left,right):\n",
    "    global inversion_cnt\n",
    "    \n",
    "    length = len(left) + len(right)\n",
    "    j=k=0\n",
    "    sorted_array = np.zeros(length,dtype='int')\n",
    "    for i in range(length):\n",
    "        if j == len(left):\n",
    "            sorted_array[i] = right[k]\n",
    "            k+=1\n",
    "        elif k == len(right):\n",
    "            sorted_array[i] = left[j]\n",
    "            j+=1\n",
    "        elif left[j] > right[k]:\n",
    "            sorted_array[i] = right[k]\n",
    "            k+=1\n",
    "            inversion_cnt += (len(left)-j)\n",
    "        elif left[j] <= right[k]:\n",
    "            sorted_array[i] = left[j]\n",
    "            j+=1\n",
    "    return(list(sorted_array),inversion_cnt)"
   ]
  },
  {
   "cell_type": "code",
   "execution_count": 173,
   "metadata": {},
   "outputs": [],
   "source": [
    "def cnt_inversion(x):\n",
    "    global inversion_cnt\n",
    "    \n",
    "    length = len(x)\n",
    "    \n",
    "    if length == 1:\n",
    "        return (x,0)\n",
    "    \n",
    "    elif length % 2 == 0:\n",
    "        left = x[:int(length/2)] \n",
    "        right = x[int(length/2):] \n",
    "        sorted_left, left_cnt = cnt_inversion(left)\n",
    "        sorted_right, right_cnt = cnt_inversion(right)\n",
    "        return (merge_count_inversion(sorted_left,sorted_right))\n",
    "    \n",
    "    elif length % 2 != 0:\n",
    "        left = x[:(int(length/2)+1)] \n",
    "        right = x[(int(length/2)+1):]\n",
    "        sorted_left, left_cnt = cnt_inversion(left)\n",
    "        sorted_right, right_cnt = cnt_inversion(right)\n",
    "        return (merge_count_inversion(sorted_left,sorted_right))"
   ]
  },
  {
   "cell_type": "code",
   "execution_count": 175,
   "metadata": {},
   "outputs": [
    {
     "data": {
      "text/plain": [
       "([1, 2, 3, 4, 5, 6, 7, 8, 9], 36)"
      ]
     },
     "execution_count": 175,
     "metadata": {},
     "output_type": "execute_result"
    }
   ],
   "source": [
    "inversion_cnt = 0\n",
    "cnt_inversion([9,8,7,6,5,4,3,2,1])"
   ]
  }
 ],
 "metadata": {
  "kernelspec": {
   "display_name": "Python 3",
   "language": "python",
   "name": "python3"
  },
  "language_info": {
   "codemirror_mode": {
    "name": "ipython",
    "version": 3
   },
   "file_extension": ".py",
   "mimetype": "text/x-python",
   "name": "python",
   "nbconvert_exporter": "python",
   "pygments_lexer": "ipython3",
   "version": "3.7.6"
  }
 },
 "nbformat": 4,
 "nbformat_minor": 4
}

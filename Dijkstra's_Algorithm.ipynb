{
  "nbformat": 4,
  "nbformat_minor": 0,
  "metadata": {
    "colab": {
      "name": "Untitled1.ipynb",
      "provenance": [],
      "collapsed_sections": [],
      "machine_shape": "hm",
      "authorship_tag": "ABX9TyOfsszC04tLBsDYmHvI86FE",
      "include_colab_link": true
    },
    "kernelspec": {
      "name": "python3",
      "display_name": "Python 3"
    }
  },
  "cells": [
    {
      "cell_type": "markdown",
      "metadata": {
        "id": "view-in-github",
        "colab_type": "text"
      },
      "source": [
        "<a href=\"https://colab.research.google.com/github/JohnnyPeng123/Algorithm/blob/master/Dijkstra's_Algorithm.ipynb\" target=\"_parent\"><img src=\"https://colab.research.google.com/assets/colab-badge.svg\" alt=\"Open In Colab\"/></a>"
      ]
    },
    {
      "cell_type": "code",
      "metadata": {
        "id": "Ug-sQNv_j8J_",
        "colab_type": "code",
        "colab": {}
      },
      "source": [
        "url = 'https://d3c33hcgiwev3.cloudfront.net/_dcf1d02570e57d23ab526b1e33ba6f12_dijkstraData.txt?Expires=1598572800&Signature=ZyA-VW2b30B6Rj8CZI6qTsV-A-Ge--CTX41dtrt-myBMpk-Ws5TlIJjRwRP2wqFeieCRBsmqOQLvwBjdIhKnAw-1PwgWP2RrGbpsur-eM3aXLo2JIK~iFCoBqBORjIakhbKzNWCUyI9LvHGD817JX5wJHGgImkVHuGMw-ePvD48_&Key-Pair-Id=APKAJLTNE6QMUY6HBC5A'\n",
        "import urllib.request  # the lib that handles the url stuff\n",
        "\n",
        "data = []\n",
        "for line in urllib.request.urlopen(url):\n",
        "    data.append(line.decode('utf-8'))"
      ],
      "execution_count": 2,
      "outputs": []
    },
    {
      "cell_type": "code",
      "metadata": {
        "id": "RdTQZ45wGus2",
        "colab_type": "code",
        "colab": {}
      },
      "source": [
        "# Get data organized\n",
        "vertices = {}\n",
        "\n",
        "for j in range(len(data)):\n",
        "  txt = data[j].split(\"\\t\")\n",
        "  x = txt[0:(len(txt)-1)]\n",
        "  temp = []\n",
        "  for i in range(1,len(x)):\n",
        "        temp.append(x[i].split(\",\"))\n",
        "  vertices[x[0]] = temp"
      ],
      "execution_count": 49,
      "outputs": []
    },
    {
      "cell_type": "code",
      "metadata": {
        "id": "dUn0kIsJb_o_",
        "colab_type": "code",
        "colab": {}
      },
      "source": [
        "# Initalize \n",
        "distance = {}\n",
        "source_node = '1'\n",
        "distance[source_node] = 0\n",
        "\n",
        "# Main loop\n",
        "while len(distance) != len(vertices):\n",
        "  min_dist = float('inf')\n",
        "  for node in distance.keys():\n",
        "    for arc in vertices[node]:\n",
        "      if arc[0] not in distance.keys():\n",
        "        if (int(distance[node])+int(arc[1])) < min_dist:\n",
        "          min_dist = int(distance[node])+int(arc[1])\n",
        "          out_arc = arc[0]\n",
        "  distance[out_arc] = min_dist"
      ],
      "execution_count": 61,
      "outputs": []
    },
    {
      "cell_type": "code",
      "metadata": {
        "id": "LB5g-4p_h1eO",
        "colab_type": "code",
        "colab": {
          "base_uri": "https://localhost:8080/",
          "height": 34
        },
        "outputId": "64799305-5cec-46cb-8dd0-3b28abdd8289"
      },
      "source": [
        "distance['197']"
      ],
      "execution_count": 73,
      "outputs": [
        {
          "output_type": "execute_result",
          "data": {
            "text/plain": [
              "3068"
            ]
          },
          "metadata": {
            "tags": []
          },
          "execution_count": 73
        }
      ]
    }
  ]
}
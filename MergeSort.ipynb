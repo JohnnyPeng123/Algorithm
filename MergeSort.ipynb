{
 "cells": [
  {
   "cell_type": "code",
   "execution_count": 66,
   "metadata": {},
   "outputs": [],
   "source": [
    "def merge(left,right):\n",
    "    length = len(left) + len(right)\n",
    "    j=k=0\n",
    "    sorted_array = np.zeros(length,dtype='int')\n",
    "    for i in range(length):\n",
    "        if j == len(left):\n",
    "            sorted_array[i] = right[k]\n",
    "            k+=1\n",
    "        elif k == len(right):\n",
    "            sorted_array[i] = left[j]\n",
    "            j+=1\n",
    "        elif left[j] >= right[k]:\n",
    "            sorted_array[i] = right[k]\n",
    "            k+=1\n",
    "        elif left[j] < right[k]:\n",
    "            sorted_array[i] = left[j]\n",
    "            j+=1\n",
    "    return(list(sorted_array))"
   ]
  },
  {
   "cell_type": "code",
   "execution_count": 73,
   "metadata": {},
   "outputs": [],
   "source": [
    "def merge_sort(x):\n",
    "    length = len(x)\n",
    "    \n",
    "    if length == 1:\n",
    "        return (x)\n",
    "    \n",
    "    elif length % 2 == 0:\n",
    "        left = x[:int(length/2)] \n",
    "        right = x[int(length/2):] \n",
    "        sorted_left = merge_sort(left)\n",
    "        sorted_right = merge_sort(right)\n",
    "        return (merge(sorted_left,sorted_right))\n",
    "    \n",
    "    elif length % 2 != 0:\n",
    "        left = x[:(int(length/2)+1)] \n",
    "        right = x[(int(length/2)+1):]\n",
    "        sorted_left = merge_sort(left)\n",
    "        sorted_right = merge_sort(right)\n",
    "        return (merge(sorted_left,sorted_right))"
   ]
  },
  {
   "cell_type": "code",
   "execution_count": 74,
   "metadata": {},
   "outputs": [
    {
     "data": {
      "text/plain": [
       "[1, 2, 3, 4, 5, 6, 7, 8, 9]"
      ]
     },
     "execution_count": 74,
     "metadata": {},
     "output_type": "execute_result"
    }
   ],
   "source": [
    "merge_sort([9,8,7,6,5,4,3,2,1])"
   ]
  },
  {
   "cell_type": "code",
   "execution_count": 75,
   "metadata": {},
   "outputs": [
    {
     "data": {
      "text/plain": [
       "[1, 2, 3, 4, 5, 6, 7, 8, 9]"
      ]
     },
     "execution_count": 75,
     "metadata": {},
     "output_type": "execute_result"
    }
   ],
   "source": [
    "merge_sort([5,4,3,2,1,9,8,7,6])"
   ]
  }
 ],
 "metadata": {
  "kernelspec": {
   "display_name": "Python 3",
   "language": "python",
   "name": "python3"
  },
  "language_info": {
   "codemirror_mode": {
    "name": "ipython",
    "version": 3
   },
   "file_extension": ".py",
   "mimetype": "text/x-python",
   "name": "python",
   "nbconvert_exporter": "python",
   "pygments_lexer": "ipython3",
   "version": "3.7.6"
  }
 },
 "nbformat": 4,
 "nbformat_minor": 4
}

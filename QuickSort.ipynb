{
 "cells": [
  {
   "cell_type": "code",
   "execution_count": 504,
   "metadata": {},
   "outputs": [],
   "source": [
    "def quick_sort_1st(x,l,r):\n",
    "    \n",
    "    global comparsion_cnt\n",
    "    \n",
    "    if len(x[l:r]) == 0:\n",
    "        return(x,comparsion_cnt)\n",
    "    \n",
    "    else:\n",
    "        pivot = x[l:r][0]\n",
    "        i = 0 \n",
    "\n",
    "        for j in range(1,len(x[l:r])):\n",
    "            if x[l+j] < pivot:\n",
    "                i+=1\n",
    "                temp = x[l+i]\n",
    "                x[l+i] = x[l+j]\n",
    "                x[l+j] = temp\n",
    "        \n",
    "        comparsion_cnt += (len(x[l:r]) - 1)\n",
    "        \n",
    "        temp = x[l]\n",
    "        x[l] = x[l+i]\n",
    "        x[l+i] = temp\n",
    "        \n",
    "        quick_sort_1st(x,l,l+i)\n",
    "        quick_sort_1st(x,l+i+1,r)\n",
    "        return(x,comparsion_cnt)"
   ]
  },
  {
   "cell_type": "code",
   "execution_count": 505,
   "metadata": {},
   "outputs": [],
   "source": [
    "def quick_sort_last(x,l,r):\n",
    "    \n",
    "    global comparsion_cnt\n",
    "    \n",
    "    if len(x[l:r]) == 0:\n",
    "        return(x,comparsion_cnt)\n",
    "    \n",
    "    else:\n",
    "        temp = x[l]\n",
    "        x[l] = x[r-1]\n",
    "        x[r-1] = temp\n",
    "        \n",
    "        pivot = x[l:r][0]\n",
    "        i = 0 \n",
    "\n",
    "        for j in range(1,len(x[l:r])):\n",
    "            if x[l+j] < pivot:\n",
    "                i+=1\n",
    "                temp = x[l+i]\n",
    "                x[l+i] = x[l+j]\n",
    "                x[l+j] = temp\n",
    "        \n",
    "        comparsion_cnt += (len(x[l:r]) - 1)\n",
    "        \n",
    "        temp = x[l]\n",
    "        x[l] = x[l+i]\n",
    "        x[l+i] = temp\n",
    "        \n",
    "        quick_sort_last(x,l,l+i)\n",
    "        quick_sort_last(x,l+i+1,r)\n",
    "        return(x,comparsion_cnt)"
   ]
  },
  {
   "cell_type": "code",
   "execution_count": 506,
   "metadata": {},
   "outputs": [],
   "source": [
    "def quick_sort_median(x,l,r):\n",
    "    \n",
    "    global comparsion_cnt\n",
    "    \n",
    "    if len(x[l:r]) == 0:\n",
    "        return(x,comparsion_cnt)\n",
    "    \n",
    "    else:\n",
    "        if len(x[l:r]) % 2 == 0:\n",
    "            middle = x[l:r][int(len(x[l:r])/2)-1]\n",
    "            flag = 0\n",
    "        elif len(x[l:r]) % 2 != 0:\n",
    "            middle = x[l:r][int(len(x[l:r])/2)]\n",
    "            flag = 1\n",
    "                \n",
    "        sorted_ar = list([x[l],middle,x[r-1]])\n",
    "        for k in range(2):\n",
    "            if sorted_ar[k]>sorted_ar[k+1]:\n",
    "                temp = sorted_ar[k]\n",
    "                sorted_ar[k] = sorted_ar[k+1]\n",
    "                sorted_ar[k+1] = temp     \n",
    "        \n",
    "        for k in range(2):\n",
    "            if sorted_ar[k]>sorted_ar[k+1]:\n",
    "                temp = sorted_ar[k]\n",
    "                sorted_ar[k] = sorted_ar[k+1]\n",
    "                sorted_ar[k+1] = temp   \n",
    "\n",
    "        if sorted_ar[1] == x[l]:\n",
    "            pass\n",
    "        \n",
    "        elif sorted_ar[1] == x[r-1]:\n",
    "            temp = x[l]\n",
    "            x[l] = x[r-1]\n",
    "            x[r-1] = temp\n",
    "       \n",
    "        elif sorted_ar[1] == middle and flag == 0:    \n",
    "            temp = x[l]\n",
    "            x[l] = x[l+int(len(x[l:r])/2)-1]\n",
    "            x[l+int(len(x[l:r])/2)-1] = temp\n",
    "            \n",
    "        elif sorted_ar[1] == middle and flag == 1:    \n",
    "            temp = x[l]\n",
    "            x[l] = x[l+int(len(x[l:r])/2)]\n",
    "            x[l+int(len(x[l:r])/2)] = temp\n",
    "        \n",
    "        pivot = x[l:r][0]\n",
    "        i = 0 \n",
    "\n",
    "        for j in range(1,len(x[l:r])):\n",
    "            if x[l+j] < pivot:\n",
    "                i+=1\n",
    "                temp = x[l+i]\n",
    "                x[l+i] = x[l+j]\n",
    "                x[l+j] = temp\n",
    "        \n",
    "        comparsion_cnt += (len(x[l:r]) - 1)\n",
    "        \n",
    "        temp = x[l]\n",
    "        x[l] = x[l+i]\n",
    "        x[l+i] = temp\n",
    "        \n",
    "        quick_sort_median(x,l,l+i)\n",
    "        quick_sort_median(x,l+i+1,r)\n",
    "        return(x,comparsion_cnt)"
   ]
  },
  {
   "cell_type": "code",
   "execution_count": 507,
   "metadata": {},
   "outputs": [
    {
     "data": {
      "text/plain": [
       "([1, 4, 4, 5, 6, 7, 8, 9, 10], 20)"
      ]
     },
     "execution_count": 507,
     "metadata": {},
     "output_type": "execute_result"
    }
   ],
   "source": [
    "comparsion_cnt = 0\n",
    "x = [5,4,1,6,4,7,8,9,10]\n",
    "quick_sort_1st(x,0,len(x))"
   ]
  },
  {
   "cell_type": "code",
   "execution_count": 508,
   "metadata": {},
   "outputs": [
    {
     "data": {
      "text/plain": [
       "([1, 4, 4, 5, 6, 7, 8, 9, 10], 32)"
      ]
     },
     "execution_count": 508,
     "metadata": {},
     "output_type": "execute_result"
    }
   ],
   "source": [
    "comparsion_cnt = 0\n",
    "x = [5,4,1,6,4,7,8,9,10]\n",
    "quick_sort_last(x,0,len(x))"
   ]
  },
  {
   "cell_type": "code",
   "execution_count": 509,
   "metadata": {},
   "outputs": [
    {
     "data": {
      "text/plain": [
       "([1, 4, 4, 5, 6, 7, 8, 9, 10], 16)"
      ]
     },
     "execution_count": 509,
     "metadata": {},
     "output_type": "execute_result"
    }
   ],
   "source": [
    "comparsion_cnt = 0\n",
    "x = [5,4,1,6,4,7,8,9,10]\n",
    "quick_sort_median(x,0,len(x))"
   ]
  }
 ],
 "metadata": {
  "kernelspec": {
   "display_name": "Python 3",
   "language": "python",
   "name": "python3"
  },
  "language_info": {
   "codemirror_mode": {
    "name": "ipython",
    "version": 3
   },
   "file_extension": ".py",
   "mimetype": "text/x-python",
   "name": "python",
   "nbconvert_exporter": "python",
   "pygments_lexer": "ipython3",
   "version": "3.7.6"
  }
 },
 "nbformat": 4,
 "nbformat_minor": 4
}

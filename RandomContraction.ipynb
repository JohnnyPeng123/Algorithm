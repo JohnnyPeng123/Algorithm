{
 "cells": [
  {
   "cell_type": "code",
   "execution_count": 942,
   "metadata": {},
   "outputs": [],
   "source": [
    "# Import vertices & adjacency edge data\n",
    "import csv\n",
    "with open('Vertices.csv', 'r') as f:\n",
    "  reader = csv.reader(f)\n",
    "  vertices = list(reader)"
   ]
  },
  {
   "cell_type": "code",
   "execution_count": 943,
   "metadata": {},
   "outputs": [],
   "source": [
    "# Remove Empty Spaces\n",
    "for i in range(len(vertices)):\n",
    "    for j in range(len(vertices[i])):\n",
    "        if vertices[i][j] == '':\n",
    "            vertices[i] = vertices[i][:j]\n",
    "            break"
   ]
  },
  {
   "cell_type": "code",
   "execution_count": 944,
   "metadata": {},
   "outputs": [],
   "source": [
    "# Create Lists of Vertices\n",
    "v_list = [] \n",
    "for i in range(len(vertices)):\n",
    "    v_list.append(int(vertices[i][0]))"
   ]
  },
  {
   "cell_type": "code",
   "execution_count": 945,
   "metadata": {},
   "outputs": [],
   "source": [
    "# Create Lists of Edges\n",
    "e_list = []\n",
    "for i in range(len(vertices)):\n",
    "    for j in range(1,len(vertices[i])):\n",
    "        if [vertices[i][j],vertices[i][0]] not in e_list:\n",
    "            e_list.append([int(vertices[i][0]),int(vertices[i][j])])"
   ]
  },
  {
   "cell_type": "code",
   "execution_count": null,
   "metadata": {},
   "outputs": [],
   "source": [
    "def random_contraction(v_list,e_list):\n",
    "    if len(v_list) == 2:\n",
    "        pass\n",
    "    else:\n",
    "        # Flatten the edge to group of vertices\n",
    "        choosen_edge = random.choice(e_list)\n",
    "        \n",
    "        try:\n",
    "            len(choosen_edge[0])\n",
    "            choosen_edge_flatten = list(choosen_edge[0])\n",
    "            try:\n",
    "                len(choosen_edge[1])\n",
    "                for j in range(len(choosen_edge[1])):\n",
    "                    choosen_edge_flatten.append(choosen_edge[1][j]) \n",
    "            \n",
    "            except TypeError:\n",
    "                choosen_edge_flatten.append(choosen_edge[1]) \n",
    "                \n",
    "        except TypeError:\n",
    "            choosen_edge_flatten = choosen_edge\n",
    "        \n",
    "        remove_count = 0 \n",
    "        for i in range(len(v_list)):\n",
    "            i-=remove_count\n",
    "            if v_list[i] in choosen_edge:\n",
    "                v_list.remove(v_list[i])\n",
    "                remove_count += 1\n",
    "        v_list.append(choosen_edge_flatten)\n",
    "        \n",
    "        remove_count = 0\n",
    "        for i in range(len(e_list)):\n",
    "            i -= remove_count\n",
    "            if e_list[i][0] in choosen_edge and e_list[i][1] not in choosen_edge:\n",
    "                e_list.append([choosen_edge_flatten,e_list[i][1]])\n",
    "                e_list.remove(e_list[i])\n",
    "                remove_count += 1\n",
    "                \n",
    "            elif e_list[i][1] in choosen_edge and e_list[i][0] not in choosen_edge:\n",
    "                e_list.append([choosen_edge_flatten,e_list[i][0]])\n",
    "                e_list.remove(e_list[i])\n",
    "                remove_count += 1\n",
    "\n",
    "            elif e_list[i][1] in choosen_edge and e_list[i][0] in choosen_edge:\n",
    "                e_list.remove(e_list[i])\n",
    "                remove_count += 1\n",
    "        random_contraction(v_list,e_list)"
   ]
  },
  {
   "cell_type": "code",
   "execution_count": 1110,
   "metadata": {},
   "outputs": [],
   "source": [
    "def count_min_cut(vertices,v_list_cut):\n",
    "    try:\n",
    "        len(v_list_cut)\n",
    "        min_cut = 0\n",
    "        for i in range(len(v_list_cut)):\n",
    "            for j in range(len(vertices[v_list_cut[i]-1])):\n",
    "                if int(vertices[v_list_cut[i]-1][j]) not in v_list_cut:\n",
    "                    min_cut += 1\n",
    "    except TypeError:    \n",
    "        min_cut = 0\n",
    "        min_cut += len(vertices[v_list_cut-1])\n",
    "    \n",
    "    return min_cut"
   ]
  },
  {
   "cell_type": "code",
   "execution_count": null,
   "metadata": {},
   "outputs": [],
   "source": [
    "min_cut = 99999999\n",
    "for i in range(100):\n",
    "    v_list_copy=v_list.copy()\n",
    "    e_list_copy=e_list.copy()\n",
    "    random_contraction(v_list_copy,e_list_copy)\n",
    "    min_cut_temp = count_min_cut(vertices,v_list_copy[0])\n",
    "    if min_cut_temp < min_cut:\n",
    "        min_cut = min_cut_temp"
   ]
  },
  {
   "cell_type": "code",
   "execution_count": 1132,
   "metadata": {},
   "outputs": [
    {
     "data": {
      "text/plain": [
       "17"
      ]
     },
     "execution_count": 1132,
     "metadata": {},
     "output_type": "execute_result"
    }
   ],
   "source": [
    "min_cut"
   ]
  }
 ],
 "metadata": {
  "kernelspec": {
   "display_name": "Python 3",
   "language": "python",
   "name": "python3"
  },
  "language_info": {
   "codemirror_mode": {
    "name": "ipython",
    "version": 3
   },
   "file_extension": ".py",
   "mimetype": "text/x-python",
   "name": "python",
   "nbconvert_exporter": "python",
   "pygments_lexer": "ipython3",
   "version": "3.7.6"
  }
 },
 "nbformat": 4,
 "nbformat_minor": 4
}

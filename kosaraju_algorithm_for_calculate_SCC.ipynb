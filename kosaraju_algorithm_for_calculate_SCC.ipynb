{
  "nbformat": 4,
  "nbformat_minor": 0,
  "metadata": {
    "colab": {
      "name": "Untitled1.ipynb",
      "provenance": [],
      "collapsed_sections": [],
      "machine_shape": "hm",
      "authorship_tag": "ABX9TyO43HdgESKpgnmwtlPPycO/",
      "include_colab_link": true
    },
    "kernelspec": {
      "name": "python3",
      "display_name": "Python 3"
    }
  },
  "cells": [
    {
      "cell_type": "markdown",
      "metadata": {
        "id": "view-in-github",
        "colab_type": "text"
      },
      "source": [
        "<a href=\"https://colab.research.google.com/github/JohnnyPeng123/Algorithm/blob/master/kosaraju_algorithm_for_calculate_SCC.ipynb\" target=\"_parent\"><img src=\"https://colab.research.google.com/assets/colab-badge.svg\" alt=\"Open In Colab\"/></a>"
      ]
    },
    {
      "cell_type": "code",
      "metadata": {
        "id": "Ug-sQNv_j8J_",
        "colab_type": "code",
        "colab": {}
      },
      "source": [
        "url = 'https://d3c33hcgiwev3.cloudfront.net/_410e934e6553ac56409b2cb7096a44aa_SCC.txt?Expires=1597881600&Signature=KuYFGdnfH0aJAxeev3MjFINJHMVL5XSKXgOhuzWg8B4xVEPMpaSwnR~3NAY1dBJSyz~6L~bnH-vWJLMbFjYN3UbZm3LdzChRsienVCaEK3i5DVfYFxYIB9YN-dMjfhakRUzg3060JHs52cXChko0Ee9XJvO3Cmud9gCFzaWuyOc_&Key-Pair-Id=APKAJLTNE6QMUY6HBC5A'\n",
        "import urllib.request  # the lib that handles the url stuff\n",
        "\n",
        "data = []\n",
        "for line in urllib.request.urlopen(url):\n",
        "    data.append(line.decode('utf-8'))"
      ],
      "execution_count": 1,
      "outputs": []
    },
    {
      "cell_type": "code",
      "metadata": {
        "id": "XrBktk20j9B7",
        "colab_type": "code",
        "colab": {
          "base_uri": "https://localhost:8080/",
          "height": 34
        },
        "outputId": "e7200910-c50f-4de6-bad5-925f57b8d9c0"
      },
      "source": [
        "import sys, threading\n",
        "sys.setrecursionlimit(800000)\n",
        "threading.stack_size(67108864)"
      ],
      "execution_count": 2,
      "outputs": [
        {
          "output_type": "execute_result",
          "data": {
            "text/plain": [
              "0"
            ]
          },
          "metadata": {
            "tags": []
          },
          "execution_count": 2
        }
      ]
    },
    {
      "cell_type": "code",
      "metadata": {
        "id": "LknPJ-70j_0A",
        "colab_type": "code",
        "colab": {}
      },
      "source": [
        "v_label = []\n",
        "v_out = []\n",
        "for i in range(len(data)):\n",
        "    count = 0\n",
        "    for j in range(len(list(data[i]))):\n",
        "        if data[i][j] == ' ' and count != 1:\n",
        "            v_label.append(data[i][:j])\n",
        "            pos = j\n",
        "            count += 1\n",
        "        elif data[i][j] == ' ' and count == 1:\n",
        "            v_out.append(data[i][pos+1:j])"
      ],
      "execution_count": 3,
      "outputs": []
    },
    {
      "cell_type": "code",
      "metadata": {
        "id": "EjaKwJfDkDIb",
        "colab_type": "code",
        "colab": {}
      },
      "source": [
        "def create_v_arc(v_label,v_out):\n",
        "    v_arc = {}\n",
        "    for i in range(len(v_label)):\n",
        "        try:\n",
        "            if type(v_arc[int(v_label[i])]) != list:\n",
        "                temp = [v_arc[int(v_label[i])]]\n",
        "                temp.append(int(v_out[i]))\n",
        "                v_arc[int(v_label[i])] = temp \n",
        "            else:\n",
        "                temp = v_arc[int(v_label[i])]\n",
        "                temp.append(int(v_out[i]))\n",
        "                v_arc[int(v_label[i])] = temp \n",
        "\n",
        "        except KeyError:\n",
        "            v_arc[int(v_label[i])] = int(v_out[i])\n",
        "    \n",
        "    for i in range(len(v_out)):\n",
        "        try:\n",
        "            if (bool(v_arc[int(v_out[i])])):\n",
        "                pass\n",
        "            \n",
        "        except KeyError:\n",
        "            v_arc[int(v_out[i])] = int(v_out[i])\n",
        "                \n",
        "    return v_arc"
      ],
      "execution_count": 4,
      "outputs": []
    },
    {
      "cell_type": "code",
      "metadata": {
        "id": "nLC9vhF_kDsQ",
        "colab_type": "code",
        "colab": {}
      },
      "source": [
        "v_arc=create_v_arc(v_label,v_out)\n",
        "v_arc_rev=create_v_arc(v_out,v_label)"
      ],
      "execution_count": 5,
      "outputs": []
    },
    {
      "cell_type": "code",
      "metadata": {
        "id": "JqWr6zNDkHcA",
        "colab_type": "code",
        "colab": {}
      },
      "source": [
        "def DFS(v_arc, key):\n",
        "    global explored\n",
        "    global explored_leader \n",
        "    global explored_time \n",
        "    global t\n",
        "    global leader\n",
        "    \n",
        "    explored[key] = 1\n",
        "    explored_leader[key] = leader\n",
        "    node_arc = v_arc[key]\n",
        "    try:\n",
        "        for i in range(len(node_arc)):\n",
        "            if explored[node_arc[i]] != 1:\n",
        "                DFS(v_arc,node_arc[i])\n",
        "    except TypeError:\n",
        "        if explored[node_arc] != 1:\n",
        "                DFS(v_arc,node_arc)\n",
        "    t += 1\n",
        "    explored_time[key] = t"
      ],
      "execution_count": 6,
      "outputs": []
    },
    {
      "cell_type": "code",
      "metadata": {
        "id": "KJrrkz5ukKBR",
        "colab_type": "code",
        "colab": {}
      },
      "source": [
        "# Initalization\n",
        "def main():\n",
        "    global explored\n",
        "    global explored_leader \n",
        "    global explored_time \n",
        "    global t\n",
        "    global leader\n",
        "    global checkpoint\n",
        "\n",
        "    explored = v_arc_rev.copy()\n",
        "    for key, value in explored.items():\n",
        "        explored[key] = 0 \n",
        "\n",
        "    explored_leader = v_arc_rev.copy()\n",
        "    for key, value in explored_leader.items():\n",
        "        explored_leader[key] = 0 \n",
        "\n",
        "    explored_time = v_arc_rev.copy()\n",
        "    for key, value in explored_time.items():\n",
        "        explored_time[key] = 0 \n",
        "\n",
        "    t = 0\n",
        "\n",
        "    # First DFS loop\n",
        "    for key, value in explored.items():\n",
        "         if explored[key] != 1:\n",
        "            leader = key\n",
        "            DFS(v_arc_rev, key) \n",
        "\n",
        "    explored_time_srt = sorted(explored_time.items(), key=lambda x: x[1], reverse=True)\n",
        "\n",
        "    explored_time_1st = {}\n",
        "    for i in range(len(explored_time_srt)):\n",
        "      explored_time_1st[explored_time_srt[i][0]] = explored_time_srt[i][1] \n",
        "\n",
        "    explored = v_arc.copy()\n",
        "    for key, value in explored.items():\n",
        "        explored[key] = 0 \n",
        "\n",
        "    explored_leader = v_arc.copy()\n",
        "    for key, value in explored_leader.items():\n",
        "        explored_leader[key] = 0 \n",
        "\n",
        "    explored_time = v_arc.copy()\n",
        "    for key, value in explored_time.items():\n",
        "        explored_time[key] = 0 \n",
        "\n",
        "    t = 0\n",
        "\n",
        "    # Second DFS loop\n",
        "    for key, value in explored_time_1st.items():\n",
        "         if explored[key] != 1:\n",
        "            leader = key\n",
        "            DFS(v_arc, key) \n",
        "\n",
        "    checkpoint = 'done'"
      ],
      "execution_count": 7,
      "outputs": []
    },
    {
      "cell_type": "code",
      "metadata": {
        "id": "NxZxpz3HQNX3",
        "colab_type": "code",
        "colab": {}
      },
      "source": [
        "thread1 = threading.Thread(target=main)\n",
        "thread1.start()"
      ],
      "execution_count": 8,
      "outputs": []
    },
    {
      "cell_type": "code",
      "metadata": {
        "id": "hSH6Zi-WQHVX",
        "colab_type": "code",
        "colab": {
          "base_uri": "https://localhost:8080/",
          "height": 35
        },
        "outputId": "d79b403e-1dfa-481d-9a9b-9336456a380a"
      },
      "source": [
        "checkpoint"
      ],
      "execution_count": 9,
      "outputs": [
        {
          "output_type": "execute_result",
          "data": {
            "application/vnd.google.colaboratory.intrinsic+json": {
              "type": "string"
            },
            "text/plain": [
              "'done'"
            ]
          },
          "metadata": {
            "tags": []
          },
          "execution_count": 9
        }
      ]
    },
    {
      "cell_type": "code",
      "metadata": {
        "id": "jTg9Sq00PIEV",
        "colab_type": "code",
        "colab": {}
      },
      "source": [
        "frequency_list = {}\n",
        "temp_list = list(explored_leader.values())\n",
        "\n",
        "for i in range(len(temp_list)):  \n",
        "        try: \n",
        "          frequency_list[temp_list[i]] = frequency_list[temp_list[i]] + 1 \n",
        "        except KeyError:\n",
        "          frequency_list[temp_list[i]] = 1"
      ],
      "execution_count": 10,
      "outputs": []
    },
    {
      "cell_type": "code",
      "metadata": {
        "id": "T139-g6ASszO",
        "colab_type": "code",
        "colab": {
          "base_uri": "https://localhost:8080/",
          "height": 34
        },
        "outputId": "9bacc50b-8a3a-423c-8151-56c2503b177c"
      },
      "source": [
        "sorted_freq = sorted(frequency_list.items(), key=lambda x: x[1], reverse=True)\n",
        "sorted_freq[:5]"
      ],
      "execution_count": 16,
      "outputs": [
        {
          "output_type": "execute_result",
          "data": {
            "text/plain": [
              "[(1, 434821), (498116, 968), (13935, 459), (33604, 313), (97129, 211)]"
            ]
          },
          "metadata": {
            "tags": []
          },
          "execution_count": 16
        }
      ]
    }
  ]
}